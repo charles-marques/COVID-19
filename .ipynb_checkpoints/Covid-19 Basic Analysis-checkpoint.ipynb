{
 "cells": [
  {
   "cell_type": "markdown",
   "metadata": {},
   "source": [
    "# COVID-19\n",
    "## Laboratório de estudos de casos do Corona Virus Covid-19 \n",
    "\n",
    "## Fonte de Dados\n",
    "Base de dados da [Johns Hopkins University Center for Systems Science and Engineering (JHU CSSE)](https://github.com/CSSEGISandData/COVID-19) <br>\n",
    "Com base nele foi publicado o estudo: <br>\n",
    "\n",
    "### *An interactive web-based dashboard to track COVID-19 in real time* <br>\n",
    "DOI:  https://doi.org/10.1016/S1473-3099(20)30120-1 <br>\n",
    "Painel: https://www.arcgis.com/apps/opsdashboard/index.html#/bda7594740fd40299423467b48e9ecf6\n",
    "\n",
    "Dentre os dados vamos utilizar o \"CSSE COVID-19 Dataset\" que é atualizado diariamente.<br>\n",
    "Nele há duas bases de dados\n",
    "<ul>\"Daily Reports\"</ul>\n",
    "<ul>\"Time Series\"</ul>\n",
    "\n",
    "Vamos utilizar o Time Series.<br>"
   ]
  },
  {
   "cell_type": "code",
   "execution_count": 4,
   "metadata": {},
   "outputs": [],
   "source": [
    "import matplotlib.pyplot as plt\n",
    "import pandas as pd\n",
    "import numpy as np"
   ]
  },
  {
   "cell_type": "markdown",
   "metadata": {},
   "source": [
    "## Importando Dados"
   ]
  },
  {
   "cell_type": "code",
   "execution_count": 5,
   "metadata": {},
   "outputs": [],
   "source": [
    "dfWorld = pd.read_csv(\"https://raw.githubusercontent.com/CSSEGISandData/COVID-19/master/csse_covid_19_data/csse_covid_19_time_series/time_series_covid19_confirmed_global.csv\")"
   ]
  },
  {
   "cell_type": "code",
   "execution_count": 6,
   "metadata": {},
   "outputs": [
    {
     "data": {
      "text/plain": [
       "Index(['Province/State', 'Country/Region', 'Lat', 'Long', '1/22/20', '1/23/20',\n",
       "       '1/24/20', '1/25/20', '1/26/20', '1/27/20',\n",
       "       ...\n",
       "       '6/25/20', '6/26/20', '6/27/20', '6/28/20', '6/29/20', '6/30/20',\n",
       "       '7/1/20', '7/2/20', '7/3/20', '7/4/20'],\n",
       "      dtype='object', length=169)"
      ]
     },
     "execution_count": 6,
     "metadata": {},
     "output_type": "execute_result"
    }
   ],
   "source": [
    "dfWorld.columns"
   ]
  },
  {
   "cell_type": "code",
   "execution_count": 7,
   "metadata": {},
   "outputs": [
    {
     "data": {
      "text/html": [
       "<div>\n",
       "<style scoped>\n",
       "    .dataframe tbody tr th:only-of-type {\n",
       "        vertical-align: middle;\n",
       "    }\n",
       "\n",
       "    .dataframe tbody tr th {\n",
       "        vertical-align: top;\n",
       "    }\n",
       "\n",
       "    .dataframe thead th {\n",
       "        text-align: right;\n",
       "    }\n",
       "</style>\n",
       "<table border=\"1\" class=\"dataframe\">\n",
       "  <thead>\n",
       "    <tr style=\"text-align: right;\">\n",
       "      <th></th>\n",
       "      <th>Province/State</th>\n",
       "      <th>Country/Region</th>\n",
       "      <th>Lat</th>\n",
       "      <th>Long</th>\n",
       "      <th>1/22/20</th>\n",
       "      <th>1/23/20</th>\n",
       "      <th>1/24/20</th>\n",
       "      <th>1/25/20</th>\n",
       "      <th>1/26/20</th>\n",
       "      <th>1/27/20</th>\n",
       "      <th>...</th>\n",
       "      <th>6/25/20</th>\n",
       "      <th>6/26/20</th>\n",
       "      <th>6/27/20</th>\n",
       "      <th>6/28/20</th>\n",
       "      <th>6/29/20</th>\n",
       "      <th>6/30/20</th>\n",
       "      <th>7/1/20</th>\n",
       "      <th>7/2/20</th>\n",
       "      <th>7/3/20</th>\n",
       "      <th>7/4/20</th>\n",
       "    </tr>\n",
       "  </thead>\n",
       "  <tbody>\n",
       "    <tr>\n",
       "      <td>262</td>\n",
       "      <td>NaN</td>\n",
       "      <td>Yemen</td>\n",
       "      <td>15.552727</td>\n",
       "      <td>48.516388</td>\n",
       "      <td>0</td>\n",
       "      <td>0</td>\n",
       "      <td>0</td>\n",
       "      <td>0</td>\n",
       "      <td>0</td>\n",
       "      <td>0</td>\n",
       "      <td>...</td>\n",
       "      <td>1076</td>\n",
       "      <td>1089</td>\n",
       "      <td>1103</td>\n",
       "      <td>1118</td>\n",
       "      <td>1128</td>\n",
       "      <td>1158</td>\n",
       "      <td>1190</td>\n",
       "      <td>1221</td>\n",
       "      <td>1240</td>\n",
       "      <td>1248</td>\n",
       "    </tr>\n",
       "    <tr>\n",
       "      <td>263</td>\n",
       "      <td>NaN</td>\n",
       "      <td>Comoros</td>\n",
       "      <td>-11.645500</td>\n",
       "      <td>43.333300</td>\n",
       "      <td>0</td>\n",
       "      <td>0</td>\n",
       "      <td>0</td>\n",
       "      <td>0</td>\n",
       "      <td>0</td>\n",
       "      <td>0</td>\n",
       "      <td>...</td>\n",
       "      <td>272</td>\n",
       "      <td>272</td>\n",
       "      <td>272</td>\n",
       "      <td>272</td>\n",
       "      <td>272</td>\n",
       "      <td>303</td>\n",
       "      <td>303</td>\n",
       "      <td>303</td>\n",
       "      <td>309</td>\n",
       "      <td>309</td>\n",
       "    </tr>\n",
       "    <tr>\n",
       "      <td>264</td>\n",
       "      <td>NaN</td>\n",
       "      <td>Tajikistan</td>\n",
       "      <td>38.861034</td>\n",
       "      <td>71.276093</td>\n",
       "      <td>0</td>\n",
       "      <td>0</td>\n",
       "      <td>0</td>\n",
       "      <td>0</td>\n",
       "      <td>0</td>\n",
       "      <td>0</td>\n",
       "      <td>...</td>\n",
       "      <td>5691</td>\n",
       "      <td>5747</td>\n",
       "      <td>5799</td>\n",
       "      <td>5849</td>\n",
       "      <td>5900</td>\n",
       "      <td>5900</td>\n",
       "      <td>6005</td>\n",
       "      <td>6058</td>\n",
       "      <td>6058</td>\n",
       "      <td>6159</td>\n",
       "    </tr>\n",
       "    <tr>\n",
       "      <td>265</td>\n",
       "      <td>NaN</td>\n",
       "      <td>Lesotho</td>\n",
       "      <td>-29.609988</td>\n",
       "      <td>28.233608</td>\n",
       "      <td>0</td>\n",
       "      <td>0</td>\n",
       "      <td>0</td>\n",
       "      <td>0</td>\n",
       "      <td>0</td>\n",
       "      <td>0</td>\n",
       "      <td>...</td>\n",
       "      <td>17</td>\n",
       "      <td>24</td>\n",
       "      <td>24</td>\n",
       "      <td>27</td>\n",
       "      <td>27</td>\n",
       "      <td>27</td>\n",
       "      <td>35</td>\n",
       "      <td>35</td>\n",
       "      <td>35</td>\n",
       "      <td>35</td>\n",
       "    </tr>\n",
       "  </tbody>\n",
       "</table>\n",
       "<p>4 rows × 169 columns</p>\n",
       "</div>"
      ],
      "text/plain": [
       "    Province/State Country/Region        Lat       Long  1/22/20  1/23/20  \\\n",
       "262            NaN          Yemen  15.552727  48.516388        0        0   \n",
       "263            NaN        Comoros -11.645500  43.333300        0        0   \n",
       "264            NaN     Tajikistan  38.861034  71.276093        0        0   \n",
       "265            NaN        Lesotho -29.609988  28.233608        0        0   \n",
       "\n",
       "     1/24/20  1/25/20  1/26/20  1/27/20  ...  6/25/20  6/26/20  6/27/20  \\\n",
       "262        0        0        0        0  ...     1076     1089     1103   \n",
       "263        0        0        0        0  ...      272      272      272   \n",
       "264        0        0        0        0  ...     5691     5747     5799   \n",
       "265        0        0        0        0  ...       17       24       24   \n",
       "\n",
       "     6/28/20  6/29/20  6/30/20  7/1/20  7/2/20  7/3/20  7/4/20  \n",
       "262     1118     1128     1158    1190    1221    1240    1248  \n",
       "263      272      272      303     303     303     309     309  \n",
       "264     5849     5900     5900    6005    6058    6058    6159  \n",
       "265       27       27       27      35      35      35      35  \n",
       "\n",
       "[4 rows x 169 columns]"
      ]
     },
     "execution_count": 7,
     "metadata": {},
     "output_type": "execute_result"
    }
   ],
   "source": [
    "# Visualizar ultimos 4 elementos:\n",
    "dfWorld.tail(4)"
   ]
  },
  {
   "cell_type": "markdown",
   "metadata": {},
   "source": [
    "### Análise Exploratória:\n",
    "A análise exploratória é uma faze importantíssima num projeto de análise de dados seja big data, data visualização ou de data science propriamente dito.\n",
    "Muitas informações são rascunhadas nessa fase, algumas descobertas podem ser feitas como também insights que de outra maneira não seriam possíveis.\n",
    "\n",
    "\n",
    "#### Temos Lat/Long, Country/Region e DateTime\n",
    "Ou seja, podemos fazer um plot por países, localização/distâncias e por séries temporais\n",
    "ou mesmo, qualquer junção dessas dimensões"
   ]
  },
  {
   "cell_type": "code",
   "execution_count": 8,
   "metadata": {},
   "outputs": [],
   "source": [
    "# dfWorld.describe\n",
    "# Describe é muito extenso\n",
    "# selecioando apenas colunas de data\n",
    "# qtd = dfWorld.shape[1]"
   ]
  },
  {
   "cell_type": "markdown",
   "metadata": {},
   "source": [
    "### Dados do Mundo Todo"
   ]
  },
  {
   "cell_type": "code",
   "execution_count": 9,
   "metadata": {},
   "outputs": [
    {
     "data": {
      "text/plain": [
       "2020-07-02    10871926\n",
       "2020-07-03    11074878\n",
       "2020-07-04    11267309\n",
       "dtype: int64"
      ]
     },
     "execution_count": 9,
     "metadata": {},
     "output_type": "execute_result"
    }
   ],
   "source": [
    "# convertendo para séries temporais:\n",
    "tsWorld = np.sum(dfWorld.iloc[ : , 4 : ])\n",
    "tsWorld.index = pd.DatetimeIndex(tsWorld.index)\n",
    "tsWorld.tail(3)"
   ]
  },
  {
   "cell_type": "code",
   "execution_count": 10,
   "metadata": {},
   "outputs": [
    {
     "data": {
      "text/plain": [
       "<matplotlib.axes._subplots.AxesSubplot at 0x7fe9865b2b10>"
      ]
     },
     "execution_count": 10,
     "metadata": {},
     "output_type": "execute_result"
    },
    {
     "data": {
      "image/png": "[encoded data removed]",
      "text/plain": [
       "<Figure size 432x288 with 1 Axes>"
      ]
     },
     "metadata": {
      "needs_background": "light"
     },
     "output_type": "display_data"
    }
   ],
   "source": [
    "tsWorld.plot()"
   ]
  },
  {
   "cell_type": "markdown",
   "metadata": {},
   "source": [
    "### Análise do Brasil"
   ]
  },
  {
   "cell_type": "code",
   "execution_count": 11,
   "metadata": {},
   "outputs": [],
   "source": [
    "dfBr = dfWorld[dfWorld['Country/Region'] == 'Brazil']"
   ]
  },
  {
   "cell_type": "code",
   "execution_count": 12,
   "metadata": {},
   "outputs": [
    {
     "data": {
      "text/html": [
       "<div>\n",
       "<style scoped>\n",
       "    .dataframe tbody tr th:only-of-type {\n",
       "        vertical-align: middle;\n",
       "    }\n",
       "\n",
       "    .dataframe tbody tr th {\n",
       "        vertical-align: top;\n",
       "    }\n",
       "\n",
       "    .dataframe thead th {\n",
       "        text-align: right;\n",
       "    }\n",
       "</style>\n",
       "<table border=\"1\" class=\"dataframe\">\n",
       "  <thead>\n",
       "    <tr style=\"text-align: right;\">\n",
       "      <th></th>\n",
       "      <th>Province/State</th>\n",
       "      <th>Country/Region</th>\n",
       "      <th>Lat</th>\n",
       "      <th>Long</th>\n",
       "      <th>1/22/20</th>\n",
       "      <th>1/23/20</th>\n",
       "      <th>1/24/20</th>\n",
       "      <th>1/25/20</th>\n",
       "      <th>1/26/20</th>\n",
       "      <th>1/27/20</th>\n",
       "      <th>...</th>\n",
       "      <th>6/25/20</th>\n",
       "      <th>6/26/20</th>\n",
       "      <th>6/27/20</th>\n",
       "      <th>6/28/20</th>\n",
       "      <th>6/29/20</th>\n",
       "      <th>6/30/20</th>\n",
       "      <th>7/1/20</th>\n",
       "      <th>7/2/20</th>\n",
       "      <th>7/3/20</th>\n",
       "      <th>7/4/20</th>\n",
       "    </tr>\n",
       "  </thead>\n",
       "  <tbody>\n",
       "    <tr>\n",
       "      <td>28</td>\n",
       "      <td>NaN</td>\n",
       "      <td>Brazil</td>\n",
       "      <td>-14.235</td>\n",
       "      <td>-51.9253</td>\n",
       "      <td>0</td>\n",
       "      <td>0</td>\n",
       "      <td>0</td>\n",
       "      <td>0</td>\n",
       "      <td>0</td>\n",
       "      <td>0</td>\n",
       "      <td>...</td>\n",
       "      <td>1228114</td>\n",
       "      <td>1274974</td>\n",
       "      <td>1313667</td>\n",
       "      <td>1344143</td>\n",
       "      <td>1368195</td>\n",
       "      <td>1402041</td>\n",
       "      <td>1448753</td>\n",
       "      <td>1496858</td>\n",
       "      <td>1539081</td>\n",
       "      <td>1577004</td>\n",
       "    </tr>\n",
       "  </tbody>\n",
       "</table>\n",
       "<p>1 rows × 169 columns</p>\n",
       "</div>"
      ],
      "text/plain": [
       "   Province/State Country/Region     Lat     Long  1/22/20  1/23/20  1/24/20  \\\n",
       "28            NaN         Brazil -14.235 -51.9253        0        0        0   \n",
       "\n",
       "    1/25/20  1/26/20  1/27/20  ...  6/25/20  6/26/20  6/27/20  6/28/20  \\\n",
       "28        0        0        0  ...  1228114  1274974  1313667  1344143   \n",
       "\n",
       "    6/29/20  6/30/20   7/1/20   7/2/20   7/3/20   7/4/20  \n",
       "28  1368195  1402041  1448753  1496858  1539081  1577004  \n",
       "\n",
       "[1 rows x 169 columns]"
      ]
     },
     "execution_count": 12,
     "metadata": {},
     "output_type": "execute_result"
    }
   ],
   "source": [
    "dfBr"
   ]
  },
  {
   "cell_type": "code",
   "execution_count": 13,
   "metadata": {},
   "outputs": [
    {
     "data": {
      "text/html": [
       "<div>\n",
       "<style scoped>\n",
       "    .dataframe tbody tr th:only-of-type {\n",
       "        vertical-align: middle;\n",
       "    }\n",
       "\n",
       "    .dataframe tbody tr th {\n",
       "        vertical-align: top;\n",
       "    }\n",
       "\n",
       "    .dataframe thead th {\n",
       "        text-align: right;\n",
       "    }\n",
       "</style>\n",
       "<table border=\"1\" class=\"dataframe\">\n",
       "  <thead>\n",
       "    <tr style=\"text-align: right;\">\n",
       "      <th></th>\n",
       "      <th>Country/Region</th>\n",
       "      <th>1/22/20</th>\n",
       "      <th>1/23/20</th>\n",
       "      <th>1/24/20</th>\n",
       "      <th>1/25/20</th>\n",
       "      <th>1/26/20</th>\n",
       "      <th>1/27/20</th>\n",
       "      <th>1/28/20</th>\n",
       "      <th>1/29/20</th>\n",
       "      <th>1/30/20</th>\n",
       "      <th>...</th>\n",
       "      <th>6/25/20</th>\n",
       "      <th>6/26/20</th>\n",
       "      <th>6/27/20</th>\n",
       "      <th>6/28/20</th>\n",
       "      <th>6/29/20</th>\n",
       "      <th>6/30/20</th>\n",
       "      <th>7/1/20</th>\n",
       "      <th>7/2/20</th>\n",
       "      <th>7/3/20</th>\n",
       "      <th>7/4/20</th>\n",
       "    </tr>\n",
       "  </thead>\n",
       "  <tbody>\n",
       "    <tr>\n",
       "      <td>28</td>\n",
       "      <td>Brazil</td>\n",
       "      <td>0</td>\n",
       "      <td>0</td>\n",
       "      <td>0</td>\n",
       "      <td>0</td>\n",
       "      <td>0</td>\n",
       "      <td>0</td>\n",
       "      <td>0</td>\n",
       "      <td>0</td>\n",
       "      <td>0</td>\n",
       "      <td>...</td>\n",
       "      <td>1228114</td>\n",
       "      <td>1274974</td>\n",
       "      <td>1313667</td>\n",
       "      <td>1344143</td>\n",
       "      <td>1368195</td>\n",
       "      <td>1402041</td>\n",
       "      <td>1448753</td>\n",
       "      <td>1496858</td>\n",
       "      <td>1539081</td>\n",
       "      <td>1577004</td>\n",
       "    </tr>\n",
       "  </tbody>\n",
       "</table>\n",
       "<p>1 rows × 166 columns</p>\n",
       "</div>"
      ],
      "text/plain": [
       "   Country/Region  1/22/20  1/23/20  1/24/20  1/25/20  1/26/20  1/27/20  \\\n",
       "28         Brazil        0        0        0        0        0        0   \n",
       "\n",
       "    1/28/20  1/29/20  1/30/20  ...  6/25/20  6/26/20  6/27/20  6/28/20  \\\n",
       "28        0        0        0  ...  1228114  1274974  1313667  1344143   \n",
       "\n",
       "    6/29/20  6/30/20   7/1/20   7/2/20   7/3/20   7/4/20  \n",
       "28  1368195  1402041  1448753  1496858  1539081  1577004  \n",
       "\n",
       "[1 rows x 166 columns]"
      ]
     },
     "execution_count": 13,
     "metadata": {},
     "output_type": "execute_result"
    }
   ],
   "source": [
    "dfBr.drop(['Province/State','Lat','Long'], axis=1)"
   ]
  },
  {
   "cell_type": "code",
   "execution_count": 14,
   "metadata": {},
   "outputs": [],
   "source": [
    "# qtdBr = dfBr.shape[1]\n",
    "# qtdBr"
   ]
  },
  {
   "cell_type": "code",
   "execution_count": 15,
   "metadata": {},
   "outputs": [],
   "source": [
    "# Gerando a TimeSeries\n",
    "tsBr = np.sum(dfBr.iloc[ : , 4 :  ])"
   ]
  },
  {
   "cell_type": "code",
   "execution_count": 16,
   "metadata": {},
   "outputs": [
    {
     "data": {
      "text/plain": [
       "1/22/20          0\n",
       "1/23/20          0\n",
       "1/24/20          0\n",
       "1/25/20          0\n",
       "1/26/20          0\n",
       "            ...   \n",
       "6/30/20    1402041\n",
       "7/1/20     1448753\n",
       "7/2/20     1496858\n",
       "7/3/20     1539081\n",
       "7/4/20     1577004\n",
       "Length: 165, dtype: int64"
      ]
     },
     "execution_count": 16,
     "metadata": {},
     "output_type": "execute_result"
    }
   ],
   "source": [
    "tsBr"
   ]
  },
  {
   "cell_type": "code",
   "execution_count": 17,
   "metadata": {},
   "outputs": [],
   "source": [
    "tsBr.index = pd.DatetimeIndex(tsBr.index)"
   ]
  },
  {
   "cell_type": "code",
   "execution_count": 18,
   "metadata": {},
   "outputs": [
    {
     "data": {
      "text/plain": [
       "<matplotlib.axes._subplots.AxesSubplot at 0x7fe9840cced0>"
      ]
     },
     "execution_count": 18,
     "metadata": {},
     "output_type": "execute_result"
    },
    {
     "data": {
      "image/png": "[encoded data removed]",
      "text/plain": [
       "<Figure size 432x288 with 1 Axes>"
      ]
     },
     "metadata": {
      "needs_background": "light"
     },
     "output_type": "display_data"
    }
   ],
   "source": [
    "# Comparando os dados:\n",
    "# plt.plot(index=tsBr.index)\n",
    "# plt.plot(index=tsWorld.index)\n",
    "# plt.show\n",
    "tsBr.plot()"
   ]
  },
  {
   "cell_type": "markdown",
   "metadata": {},
   "source": [
    "### Comparando Brasil com outros Países"
   ]
  },
  {
   "cell_type": "code",
   "execution_count": 19,
   "metadata": {},
   "outputs": [],
   "source": [
    "dfUs = dfWorld[dfWorld['Country/Region'] == 'US']\n",
    "dfCh = dfWorld[dfWorld['Country/Region'] == 'China']\n",
    "dfIt = dfWorld[dfWorld['Country/Region'] == 'Italy']"
   ]
  },
  {
   "cell_type": "code",
   "execution_count": 20,
   "metadata": {},
   "outputs": [
    {
     "data": {
      "text/html": [
       "<div>\n",
       "<style scoped>\n",
       "    .dataframe tbody tr th:only-of-type {\n",
       "        vertical-align: middle;\n",
       "    }\n",
       "\n",
       "    .dataframe tbody tr th {\n",
       "        vertical-align: top;\n",
       "    }\n",
       "\n",
       "    .dataframe thead th {\n",
       "        text-align: right;\n",
       "    }\n",
       "</style>\n",
       "<table border=\"1\" class=\"dataframe\">\n",
       "  <thead>\n",
       "    <tr style=\"text-align: right;\">\n",
       "      <th></th>\n",
       "      <th>Country/Region</th>\n",
       "      <th>1/22/20</th>\n",
       "      <th>1/23/20</th>\n",
       "      <th>1/24/20</th>\n",
       "      <th>1/25/20</th>\n",
       "      <th>1/26/20</th>\n",
       "      <th>1/27/20</th>\n",
       "      <th>1/28/20</th>\n",
       "      <th>1/29/20</th>\n",
       "      <th>1/30/20</th>\n",
       "      <th>...</th>\n",
       "      <th>6/25/20</th>\n",
       "      <th>6/26/20</th>\n",
       "      <th>6/27/20</th>\n",
       "      <th>6/28/20</th>\n",
       "      <th>6/29/20</th>\n",
       "      <th>6/30/20</th>\n",
       "      <th>7/1/20</th>\n",
       "      <th>7/2/20</th>\n",
       "      <th>7/3/20</th>\n",
       "      <th>7/4/20</th>\n",
       "    </tr>\n",
       "  </thead>\n",
       "  <tbody>\n",
       "    <tr>\n",
       "      <td>137</td>\n",
       "      <td>Italy</td>\n",
       "      <td>0</td>\n",
       "      <td>0</td>\n",
       "      <td>0</td>\n",
       "      <td>0</td>\n",
       "      <td>0</td>\n",
       "      <td>0</td>\n",
       "      <td>0</td>\n",
       "      <td>0</td>\n",
       "      <td>0</td>\n",
       "      <td>...</td>\n",
       "      <td>239706</td>\n",
       "      <td>239961</td>\n",
       "      <td>240136</td>\n",
       "      <td>240310</td>\n",
       "      <td>240436</td>\n",
       "      <td>240578</td>\n",
       "      <td>240760</td>\n",
       "      <td>240961</td>\n",
       "      <td>241184</td>\n",
       "      <td>241419</td>\n",
       "    </tr>\n",
       "  </tbody>\n",
       "</table>\n",
       "<p>1 rows × 166 columns</p>\n",
       "</div>"
      ],
      "text/plain": [
       "    Country/Region  1/22/20  1/23/20  1/24/20  1/25/20  1/26/20  1/27/20  \\\n",
       "137          Italy        0        0        0        0        0        0   \n",
       "\n",
       "     1/28/20  1/29/20  1/30/20  ...  6/25/20  6/26/20  6/27/20  6/28/20  \\\n",
       "137        0        0        0  ...   239706   239961   240136   240310   \n",
       "\n",
       "     6/29/20  6/30/20  7/1/20  7/2/20  7/3/20  7/4/20  \n",
       "137   240436   240578  240760  240961  241184  241419  \n",
       "\n",
       "[1 rows x 166 columns]"
      ]
     },
     "execution_count": 20,
     "metadata": {},
     "output_type": "execute_result"
    }
   ],
   "source": [
    "dfUs.drop(['Province/State','Lat','Long'], axis=1)\n",
    "dfCh.drop(['Province/State','Lat','Long'], axis=1)\n",
    "dfIt.drop(['Province/State','Lat','Long'], axis=1)"
   ]
  },
  {
   "cell_type": "code",
   "execution_count": 21,
   "metadata": {},
   "outputs": [],
   "source": [
    "# Gerando a TimeSeries\n",
    "tsUs = np.sum(dfUs.iloc[ : , 4 :  ])\n",
    "tsCh = np.sum(dfCh.iloc[ : , 4 :  ])\n",
    "tsIt = np.sum(dfIt.iloc[ : , 4 :  ])\n",
    "\n",
    "tsUs.index = pd.DatetimeIndex(tsUs.index)\n",
    "tsCh.index = pd.DatetimeIndex(tsCh.index)\n",
    "tsIt.index = pd.DatetimeIndex(tsIt.index)"
   ]
  },
  {
   "cell_type": "code",
   "execution_count": 25,
   "metadata": {},
   "outputs": [
    {
     "data": {
      "image/png": "[encoded data removed]",
      "text/plain": [
       "<Figure size 432x288 with 1 Axes>"
      ]
     },
     "metadata": {
      "needs_background": "light"
     },
     "output_type": "display_data"
    }
   ],
   "source": [
    "ax = plt.gca()\n",
    "\n",
    "\n",
    "tsBr.plot(kind='line',x='Data',y='Qtd', color='Blue', ax=ax)\n",
    "tsUs.plot(kind='line',x='Data',y='Qtd', color='Red', ax=ax)\n",
    "tsCh.plot(kind='line',x='Data',y='Qtd', color='Green', ax=ax)\n",
    "tsIt.plot(kind='line',x='Data',y='Qtd', color='Orange', ax=ax)\n",
    "\n",
    "plt.show()"
   ]
  },
  {
   "cell_type": "markdown",
   "metadata": {},
   "source": [
    "Bom, até aqui fizemos o básico: um gráfico linear com a quantidade em relação ao tempo.  \n",
    "Mais na frente vamos trabalhar esses dois parâmetros para melhorar a interpretação dos dados.  \n",
    "\n",
    "Agora vamos mudar um pouco: vamos mudar a escala da quantidade de casos confirmados.  \n"
   ]
  },
  {
   "cell_type": "code",
   "execution_count": 45,
   "metadata": {},
   "outputs": [
    {
     "data": {
      "image/png": "[encoded data removed]",
      "text/plain": [
       "<Figure size 432x288 with 2 Axes>"
      ]
     },
     "metadata": {
      "needs_background": "light"
     },
     "output_type": "display_data"
    }
   ],
   "source": [
    "# multiplas figuras no mesmo plot:\n",
    "plt.figure()\n",
    "\n",
    "\n",
    "plt.subplot(221)\n",
    "ax = plt.gca()\n",
    "tsBr.plot(kind='line',x='Data',y='Qtd', color='Blue', ax=ax)\n",
    "tsUs.plot(kind='line',x='Data',y='Qtd', color='Red', ax=ax)\n",
    "tsCh.plot(kind='line',x='Data',y='Qtd', color='Green', ax=ax)\n",
    "tsIt.plot(kind='line',x='Data',y='Qtd', color='Orange', ax=ax)\n",
    "plt.plot()\n",
    "\n",
    "plt.subplot(222)\n",
    "ax = plt.gca()\n",
    "tsBr.plot(kind='line',x='Data',y='Qtd', color='Blue', ax=ax)\n",
    "tsUs.plot(kind='line',x='Data',y='Qtd', color='Red', ax=ax)\n",
    "tsCh.plot(kind='line',x='Data',y='Qtd', color='Green', ax=ax)\n",
    "tsIt.plot(kind='line',x='Data',y='Qtd', color='Orange', ax=ax)\n",
    "plt.yscale('log')\n",
    "plt.plot()\n",
    "\n",
    "\n",
    "# plt.subplot(2)\n",
    "# plt.yscale('log')\n",
    "# plt.xscale('log')\n",
    "# plt.plot()\n",
    "\n",
    "\n",
    "plt.show()"
   ]
  },
  {
   "cell_type": "code",
   "execution_count": null,
   "metadata": {},
   "outputs": [],
   "source": []
  }
 ],
 "metadata": {
  "kernelspec": {
   "display_name": "Python 3",
   "language": "python",
   "name": "python3"
  },
  "language_info": {
   "codemirror_mode": {
    "name": "ipython",
    "version": 3
   },
   "file_extension": ".py",
   "mimetype": "text/x-python",
   "name": "python",
   "nbconvert_exporter": "python",
   "pygments_lexer": "ipython3",
   "version": "3.7.4"
  }
 },
 "nbformat": 4,
 "nbformat_minor": 2
}
